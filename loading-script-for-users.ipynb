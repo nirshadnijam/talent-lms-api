{
 "cells": [
  {
   "cell_type": "code",
   "execution_count": 6,
   "id": "da61ad54",
   "metadata": {},
   "outputs": [],
   "source": [
    "import pandas as pd\n",
    "import pymysql\n",
    "from sqlalchemy import create_engine, types\n",
    "import datetime\n",
    "import requests\n",
    "import time "
   ]
  },
  {
   "cell_type": "code",
   "execution_count": 13,
   "id": "ef68d041",
   "metadata": {},
   "outputs": [],
   "source": [
    "username = 'TALENT_LMS_KEY'\n",
    "password = ''\n",
    "\n",
    "\n",
    "mysql_host = 'HOSTNAME'\n",
    "mysql_root = 'USERNAME'\n",
    "mysql_password = 'PASSWORD'\n",
    "mysql_db = 'DATABASE_NAME'\n",
    "\n",
    "\n",
    "mysql_engine = create_engine(f'mysql+pymysql://{mysql_root}:{mysql_password}@{mysql_host}:3306/{mysql_db}')"
   ]
  },
  {
   "cell_type": "code",
   "execution_count": 8,
   "id": "86e3a509",
   "metadata": {},
   "outputs": [],
   "source": [
    "def load_lms_users():   \n",
    "    retries = 1\n",
    "    success = False\n",
    "    \n",
    "    while not success:\n",
    "        try:\n",
    "            url = 'https://thirdspace.talentlms.com/api/v1/users'\n",
    "            response = requests.get(url, auth=(username, password), timeout=5)\n",
    "            user_data = response.json()\n",
    "            success = True\n",
    "\n",
    "        except requests.exceptions.ConnectionError:\n",
    "            wait = retries * 5\n",
    "            print(f'Error! Waiting {wait} secs and re-trying...')\n",
    "            time.sleep(wait)\n",
    "            retries += 1\n",
    "\n",
    "    users_df = pd.json_normalize(user_data)\n",
    "\n",
    "    users_df['last_updated_timestamp'] = users_df['last_updated_timestamp'].astype('int64')\n",
    "    users_df['updated_at'] = users_df['last_updated_timestamp'].apply(lambda x: datetime.datetime.fromtimestamp(x))\n",
    "    users_df['account_created_at'] = users_df['created_on'].\\\n",
    "        apply(lambda x: datetime.datetime.strptime(x, '%d/%m/%Y, %H:%M:%S'))\n",
    "\n",
    "    COLS_TO_DROP = ['timezone', 'language', 'avatar', 'bio', \n",
    "                    'login_key', 'custom_field_1', 'restrict_email',\n",
    "                    'created_on', 'last_updated', 'last_updated_timestamp']\n",
    "    lms_users = users_df.drop(columns=COLS_TO_DROP)\n",
    "    \n",
    "    return lms_users\n",
    "\n",
    "def get_max_updated_at(table_name):\n",
    "    conn = mysql_engine.connect()\n",
    "    result = conn.execute(f\"select coalesce(max(updated_at),'1970-01-01 00:00:01') from test_database.{table_name}\").fetchall()\n",
    "    max_updated_at = result[0][0]\n",
    "    return max_updated_at\n",
    "\n",
    "def get_latest_df(df, table_name):\n",
    "    max_timestamp = get_max_updated_at(table_name)\n",
    "    temp_df = df[df['updated_at'] >= max_timestamp]\n",
    "    return temp_df\n",
    "\n",
    "def create_temp_users_table(df):\n",
    "    \n",
    "    sql_types = {\n",
    "    'id' : types.INTEGER(),\n",
    "    'login': types.VARCHAR(length=128),\n",
    "    'first_name': types.VARCHAR(length=128),\n",
    "    'last_name' : types.VARCHAR(length=128),\n",
    "    'email': types.VARCHAR(length=128),\n",
    "    'user_type': types.VARCHAR(length=64),\n",
    "    'status' : types.VARCHAR(length=64),\n",
    "    'deactivation_date': types.VARCHAR(length=64),\n",
    "    'level': types.INTEGER(),\n",
    "    'points' : types.INTEGER(),\n",
    "    'updated_at': types.TIMESTAMP(),\n",
    "    'account_created_at': types.TIMESTAMP()   \n",
    "}\n",
    "    df.to_sql(\n",
    "    name='temp_talent_lms_users',\n",
    "    con=mysql_engine,\n",
    "    if_exists='replace',\n",
    "    dtype=sql_types,\n",
    "    index=False\n",
    ")\n",
    "    \n",
    "def upsert_users_table():\n",
    "    conn = mysql_engine.connect()\n",
    "    \n",
    "    sql_query = f'''\n",
    "\n",
    "        insert into {mysql_db}.talent_lms_users  \n",
    "        select * from {mysql_db}.temp_talent_lms_users \n",
    "        on duplicate key update \n",
    "            talent_lms_users.user_type = temp_talent_lms_users.user_type,\n",
    "            talent_lms_users.`status` = temp_talent_lms_users.`status`,\n",
    "            talent_lms_users.`level` = temp_talent_lms_users.`level`,\n",
    "            talent_lms_users.points = temp_talent_lms_users.points,\n",
    "            talent_lms_users.updated_at = temp_talent_lms_users.updated_at;\n",
    "'''\n",
    "\n",
    "    conn.execute(sql_query)"
   ]
  },
  {
   "cell_type": "code",
   "execution_count": 4,
   "id": "a9f03819",
   "metadata": {},
   "outputs": [
    {
     "name": "stdout",
     "output_type": "stream",
     "text": [
      "Error! Waiting 5 secs and re-trying...\n"
     ]
    }
   ],
   "source": [
    "# Note: Want to create the table first for users in the db\n",
    "\n",
    "users_df = load_lms_users() # Extracting LMS data\n",
    "temp_df = get_latest_df(df=users_df, table_name='talent_lms_users') # Temp table to update\n",
    "create_temp_users_table(temp_df) # Creates the temp table in MySQL\n",
    "upsert_users_table() # Upsert Operations"
   ]
  }
 ],
 "metadata": {
  "kernelspec": {
   "display_name": "Python 3 (ipykernel)",
   "language": "python",
   "name": "python3"
  },
  "language_info": {
   "codemirror_mode": {
    "name": "ipython",
    "version": 3
   },
   "file_extension": ".py",
   "mimetype": "text/x-python",
   "name": "python",
   "nbconvert_exporter": "python",
   "pygments_lexer": "ipython3",
   "version": "3.9.12"
  }
 },
 "nbformat": 4,
 "nbformat_minor": 5
}
